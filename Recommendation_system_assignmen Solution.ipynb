{
 "cells": [
  {
   "cell_type": "markdown",
   "metadata": {
    "id": "YeM0ZBWUVtXR"
   },
   "source": [
    "# <font color='red'>SGD Algorithm to predict movie ratings</font>\n",
    "              \n",
    "                                                                                               Submitted By- Rahul Dable"
   ]
  },
  {
   "cell_type": "markdown",
   "metadata": {
    "id": "M2vyJqSlmmjM"
   },
   "source": [
    "**There will be some functions that start with the word \"grader\" ex: grader_matrix(), grader_mean(), grader_dim() etc, you should not change those function definition.<br><br>Every Grader function has to return True.**"
   ]
  },
  {
   "cell_type": "markdown",
   "metadata": {
    "id": "AL6njTf8WBO0"
   },
   "source": [
    "<pre>\n",
    "1. Download the data from <a href='https://drive.google.com/open?id=1-1z7iDB52cB6_JpO7Dqa-eOYSs-mivpq'> here </a>\n",
    "2. The data will be of this format, each data point is represented as a triplet of user_id, movie_id and rating \n",
    "<table>\n",
    "<tr><th>user_id</th><th>movie_id</th><th>rating</th></tr>\n",
    "<tr><td>77</td><td>236</td><td>3</td></tr>\n",
    "<tr><td>471</td><td>208</td><td>5</td></tr>\n",
    "<tr><td>641</td><td>401</td><td>4</td></tr>\n",
    "<tr><td>31</td><td>298</td><td>4</td></tr>\n",
    "<tr><td>58</td><td>504</td><td>5</td></tr>\n",
    "<tr><td>235</td><td>727</td><td>5</td></tr>\n",
    "</table>"
   ]
  },
  {
   "cell_type": "markdown",
   "metadata": {
    "id": "73dhFsT0WSSB"
   },
   "source": [
    "## <font color='red'>Task 1</font>"
   ]
  },
  {
   "cell_type": "markdown",
   "metadata": {
    "id": "HY0frS6EWaEV"
   },
   "source": [
    "<font color='red'><b>Predict the rating for a given (user_id, movie_id) pair </b> </font>\n"
   ]
  },
  {
   "cell_type": "markdown",
   "metadata": {
    "id": "R-ISYxaVbT8L"
   },
   "source": [
    "Predicted rating $\\hat{y}_{ij}$ for user i, movied j pair is calcuated as $\\hat{y}_{ij} = \\mu + b_i + c_j + u_i^T v_j$ , here we will be finding the best values of $b_{i}$ and $c_{j}$ using SGD algorithm with the optimization problem for N users and M movies is defined as"
   ]
  },
  {
   "cell_type": "markdown",
   "metadata": {
    "id": "8Aj8SXeQWlZd"
   },
   "source": [
    "$$\n",
    "L = \\min_{ b, c, \\{ u_i \\}_{i=1}^N, \\{ v_j \\}_{j=1}^M}\n",
    "\\quad\n",
    "\\alpha \\Big(\n",
    "    \\sum_{j} \\sum_{k} v_{jk}^2 \n",
    "    + \\sum_{i} \\sum_{k} u_{ik}^2 \n",
    "    + \\sum_{i} b_i^2\n",
    "    + \\sum_{j} c_i^2\n",
    "    \\Big)\n",
    "+ \\sum_{i,j \\in \\mathcal{I}^{\\text{train}}}\n",
    "    (y_{ij} - \\mu - b_i - c_j - u_i^T v_j)^2\n",
    "$$"
   ]
  },
  {
   "cell_type": "markdown",
   "metadata": {
    "id": "2Q5bnWyZXrM7"
   },
   "source": [
    "<ul>\n",
    "<li><span class=\"math\">\\(\\mu\\)</span> : scalar mean rating</li>\n",
    "<li><span class=\"math\">\\(b_i\\)</span> : scalar bias term for user <span class=\"math\">\\(i\\)</span></li>\n",
    "<li><span class=\"math\">\\(c_j\\)</span> : scalar bias term for movie <span class=\"math\">\\(j\\)</span></li>\n",
    "<li><span class=\"math\">\\(u_i\\)</span> : K-dimensional vector for user <span class=\"math\">\\(i\\)</span></li>\n",
    "<li><span class=\"math\">\\(v_j\\)</span> : K-dimensional vector for movie <span class=\"math\">\\(j\\)</span></li>\n",
    "</ul>\n",
    "\n",
    " $ \\ $\n"
   ]
  },
  {
   "cell_type": "markdown",
   "metadata": {
    "id": "q1cf4CunbEr4"
   },
   "source": [
    "\n",
    "\n",
    "\n",
    "*.  We will be giving you some functions, please write code in that functions only.\n",
    "\n",
    "*.  After every function, we will be giving you expected output, please make sure that you get that output. \n",
    "\n",
    "\n",
    "\n"
   ]
  },
  {
   "cell_type": "markdown",
   "metadata": {
    "id": "ZWQyB5hfy3u7"
   },
   "source": [
    "1. Construct adjacency matrix with the given data, assuming its  <a href='https://en.wikipedia.org/wiki/Bipartite_graph'> weighted un-directed bi-partited graph</a> and the weight of each edge is the rating given by user to the movie\n",
    "\n",
    "<img src='https://i.imgur.com/rmUCGMb.jpg' width=200>\n",
    "\n",
    "   you can construct this matrix like $A[i][j]=r_{ij}$ here $i$ is user_id, $j$ is movie_id and $r_{ij}$ is rating given by user $i$ to the movie $j$\n",
    "\n",
    "   Hint : you can create adjacency matrix using <a href='https://docs.scipy.org/doc/scipy/reference/generated/scipy.sparse.csr_matrix.html'> csr_matrix</a>\n",
    "\n",
    "2. We will Apply SVD decomposition on the Adjaceny matrix <a href='https://stackoverflow.com/a/31528944/4084039'>link1</a>, <a href='https://machinelearningmastery.com/singular-value-decomposition-for-machine-learning/'> link2</a> and get three matrices $U, \\sum, V$ such that $U \\times \\sum \\times V^T = A$, <br> \n",
    "if $A$ is of dimensions $N \\times M$ then <br>\n",
    "U is of $N \\times k$, <br>\n",
    "$\\sum$ is of $k \\times k$ and <br>\n",
    "$V$ is $M \\times k$ dimensions. <br>\n",
    "\n",
    "   *.  So the matrix $U$ can be represented as matrix representation of users, where each row $u_{i}$ represents a k-dimensional vector for a user\n",
    "\n",
    "   *. So the matrix $V$ can be represented as matrix representation of movies, where each row $v_{j}$ represents a k-dimensional vector for a movie.\n",
    "3. Compute $\\mu$ , $\\mu$  represents the mean of all the rating given in the dataset.(write your code in <font color='blue'>def m_u()</font>)\n",
    "4. For each unique user initilize a bias value $B_{i}$ to zero, so if we have $N$ users $B$ will be a $N$ dimensional vector, the $i^{th}$ value of the $B$ will corresponds to the bias term for $i^{th}$ user (write your code in <font color='blue'>def initialize()</font>)\n",
    "\n",
    "5. For each unique movie initilize a bias value $C_{j}$ zero, so if we have $M$ movies $C$ will be a $M$ dimensional vector, the $j^{th}$ value of the $C$ will corresponds to the bias term for $j^{th}$ movie (write your code in <font color='blue'>def initialize()</font>)\n",
    "\n",
    "6. Compute dL/db_i (Write you code in <font color='blue'> def derivative_db()</font>)\n",
    "7. Compute dL/dc_j(write your code in <font color='blue'> def derivative_dc()</font>\n",
    "\n",
    "8. Print the mean squared error with predicted ratings.\n",
    "\n",
    "<pre>\n",
    "for each epoch:\n",
    "    for each pair of (user, movie):\n",
    "        b_i =  b_i - learning_rate * dL/db_i\n",
    "        c_j =  c_j - learning_rate * dL/dc_j\n",
    "predict the ratings with formula\n",
    "</pre>\n",
    "$\\hat{y}_{ij} = \\mu + b_i + c_j + \\text{dot_product}(u_i , v_j) $\n",
    "\n",
    "9. you can choose any learning rate and regularization term in the range $10^{-3}  \\text{ to } 10^2$  <br>\n",
    "  \n",
    "10. __bonus__: instead of using SVD decomposition you can learn the vectors $u_i$, $v_j$ with the help of SGD algo similar to $b_i$ and $c_j$ "
   ]
  },
  {
   "cell_type": "markdown",
   "metadata": {
    "id": "3-aBnRepA6gy"
   },
   "source": [
    "<br>"
   ]
  },
  {
   "cell_type": "markdown",
   "metadata": {
    "id": "IP_6xMAZA4mE"
   },
   "source": [
    " # <font color='red'>Task 2 </font>"
   ]
  },
  {
   "cell_type": "markdown",
   "metadata": {
    "id": "-9HCN_3WA2au"
   },
   "source": [
    "As we know U is the learned matrix of user vectors, with its i-th row as the vector ui for user i. Each row of U can be seen as a \"feature vector\" for a particular user.\n",
    "\n",
    "The question we'd like to investigate is this: do our computed per-user features that are optimized for predicting movie ratings contain anything to do with gender?\n",
    "\n",
    "The provided data file <a href='https://drive.google.com/open?id=1PHFdJh_4gIPiLH5Q4UErH8GK71hTrzlY'>user_info.csv</a> contains an is_male column indicating which users in the dataset are male. Can you predict this signal given the features U?\n",
    "\n",
    "\n",
    "> __Note 1__ : there is no train test split in the data, the goal of this assignment is to give an intution about how to do matrix factorization with the help of SGD and application of truncated SVD. for better understanding of the collabarative fillerting please check netflix case study. <br><br>\n",
    "> __Note 2__ : Check if scaling of $U$, $V$ matrices improve the metric "
   ]
  },
  {
   "cell_type": "markdown",
   "metadata": {
    "id": "ovFCo1JCBIXM"
   },
   "source": [
    "<br>\n",
    "\n",
    "\n",
    "<br>"
   ]
  },
  {
   "cell_type": "markdown",
   "metadata": {
    "id": "iVJo-3njBQLf"
   },
   "source": [
    "<font color='red'> Reading the csv file </font>"
   ]
  },
  {
   "cell_type": "code",
   "execution_count": 3,
   "metadata": {
    "colab": {
     "base_uri": "https://localhost:8080/",
     "height": 195
    },
    "id": "hEhmfRD637EW",
    "outputId": "07189bd2-eb44-43c7-f225-022cc41d0ee6"
   },
   "outputs": [],
   "source": [
    "from tqdm import tqdm\n",
    "import matplotlib.pyplot as plt\n",
    "import seaborn as sns\n",
    "import pandas as pd"
   ]
  },
  {
   "cell_type": "code",
   "execution_count": 4,
   "metadata": {},
   "outputs": [
    {
     "data": {
      "text/html": [
       "<div>\n",
       "<style scoped>\n",
       "    .dataframe tbody tr th:only-of-type {\n",
       "        vertical-align: middle;\n",
       "    }\n",
       "\n",
       "    .dataframe tbody tr th {\n",
       "        vertical-align: top;\n",
       "    }\n",
       "\n",
       "    .dataframe thead th {\n",
       "        text-align: right;\n",
       "    }\n",
       "</style>\n",
       "<table border=\"1\" class=\"dataframe\">\n",
       "  <thead>\n",
       "    <tr style=\"text-align: right;\">\n",
       "      <th></th>\n",
       "      <th>user_id</th>\n",
       "      <th>item_id</th>\n",
       "      <th>rating</th>\n",
       "    </tr>\n",
       "  </thead>\n",
       "  <tbody>\n",
       "    <tr>\n",
       "      <th>0</th>\n",
       "      <td>772</td>\n",
       "      <td>36</td>\n",
       "      <td>3</td>\n",
       "    </tr>\n",
       "    <tr>\n",
       "      <th>1</th>\n",
       "      <td>471</td>\n",
       "      <td>228</td>\n",
       "      <td>5</td>\n",
       "    </tr>\n",
       "    <tr>\n",
       "      <th>2</th>\n",
       "      <td>641</td>\n",
       "      <td>401</td>\n",
       "      <td>4</td>\n",
       "    </tr>\n",
       "    <tr>\n",
       "      <th>3</th>\n",
       "      <td>312</td>\n",
       "      <td>98</td>\n",
       "      <td>4</td>\n",
       "    </tr>\n",
       "    <tr>\n",
       "      <th>4</th>\n",
       "      <td>58</td>\n",
       "      <td>504</td>\n",
       "      <td>5</td>\n",
       "    </tr>\n",
       "  </tbody>\n",
       "</table>\n",
       "</div>"
      ],
      "text/plain": [
       "   user_id  item_id  rating\n",
       "0      772       36       3\n",
       "1      471      228       5\n",
       "2      641      401       4\n",
       "3      312       98       4\n",
       "4       58      504       5"
      ]
     },
     "execution_count": 4,
     "metadata": {},
     "output_type": "execute_result"
    }
   ],
   "source": [
    "data=pd.read_csv('ratings_train.csv')\n",
    "data.head()"
   ]
  },
  {
   "cell_type": "markdown",
   "metadata": {
    "id": "mvB8SDS_hW03"
   },
   "source": [
    "<font color='red'>Create your adjacency matrix </font>"
   ]
  },
  {
   "cell_type": "code",
   "execution_count": 5,
   "metadata": {},
   "outputs": [],
   "source": [
    "u_i = data.user_id\n",
    "v_j = data.item_id\n",
    "\n",
    "rating_details = data.rating.tolist()\n",
    "actual_rating = data.rating.tolist()\n",
    "user_details = u_i.tolist()\n",
    "movie_details = v_j.tolist()"
   ]
  },
  {
   "cell_type": "code",
   "execution_count": 6,
   "metadata": {},
   "outputs": [],
   "source": [
    "from scipy.sparse import csr_matrix\n",
    "\n",
    "adjacency_matrix_ = csr_matrix((rating_details, (user_details, movie_details)))"
   ]
  },
  {
   "cell_type": "code",
   "execution_count": 7,
   "metadata": {},
   "outputs": [],
   "source": [
    "adjacency_matrix_df = pd.DataFrame(adjacency_matrix_.todense())"
   ]
  },
  {
   "cell_type": "markdown",
   "metadata": {
    "id": "4acJD4ujEtD6"
   },
   "source": [
    "<font color='cyan'>Grader function - 1</font>"
   ]
  },
  {
   "cell_type": "code",
   "execution_count": 8,
   "metadata": {
    "id": "2QuTzFBREsDV",
    "outputId": "1b2c9b05-5832-45e8-d920-013f2bd8d96d",
    "scrolled": true
   },
   "outputs": [
    {
     "data": {
      "text/plain": [
       "True"
      ]
     },
     "execution_count": 8,
     "metadata": {},
     "output_type": "execute_result"
    }
   ],
   "source": [
    "def grader_matrix(matrix):\n",
    "  assert(matrix.shape==(943,1681))\n",
    "  return True\n",
    "grader_matrix(adjacency_matrix_)"
   ]
  },
  {
   "cell_type": "markdown",
   "metadata": {
    "id": "gXDf1RCUBsYN"
   },
   "source": [
    "<font color='red'> SVD decompostion</font>"
   ]
  },
  {
   "cell_type": "markdown",
   "metadata": {
    "id": "OJPWI9VwD_ih"
   },
   "source": [
    "Sample code for SVD decompostion"
   ]
  },
  {
   "cell_type": "code",
   "execution_count": 9,
   "metadata": {
    "colab": {
     "base_uri": "https://localhost:8080/",
     "height": 67
    },
    "id": "GATD35bmBszc",
    "outputId": "b3f57c71-7ce6-4796-ab6c-e7af570a864c"
   },
   "outputs": [
    {
     "name": "stdout",
     "output_type": "stream",
     "text": [
      "(20, 5)\n",
      "(5,)\n",
      "(10, 5)\n"
     ]
    }
   ],
   "source": [
    "from sklearn.utils.extmath import randomized_svd\n",
    "import numpy as np \n",
    "matrix = np.random.random((20, 10))\n",
    "U, Sigma, VT = randomized_svd(matrix, n_components=5,n_iter=5, random_state=None)\n",
    "print(U.shape)\n",
    "print(Sigma.shape)\n",
    "print(VT.T.shape)"
   ]
  },
  {
   "cell_type": "markdown",
   "metadata": {
    "id": "ePDgwALQEJoB"
   },
   "source": [
    "<font color='red'>Write your code for SVD decompostion</font>"
   ]
  },
  {
   "cell_type": "code",
   "execution_count": 10,
   "metadata": {
    "id": "ZYnsKBmFEIg3"
   },
   "outputs": [],
   "source": [
    "# Please use adjacency_matrix as matrix for SVD decompostion\n",
    "# You can choose n_components as your choice"
   ]
  },
  {
   "cell_type": "code",
   "execution_count": 15,
   "metadata": {
    "id": "QsPAK8Ev1jIW",
    "outputId": "2293c7a3-25a7-429c-86a2-ae2f29ed232e"
   },
   "outputs": [
    {
     "name": "stdout",
     "output_type": "stream",
     "text": [
      "(943, 300)\n",
      "(300,)\n",
      "(1681, 300)\n"
     ]
    }
   ],
   "source": [
    "import numpy as np\n",
    "adjacency_matrix_array = adjacency_matrix_.toarray( )\n",
    "U, Sigma, VT = randomized_svd(adjacency_matrix_array, n_components=300,n_iter=5, random_state=None)\n",
    "print(U.shape)\n",
    "print(Sigma.shape)\n",
    "print(VT.T.shape)"
   ]
  },
  {
   "cell_type": "markdown",
   "metadata": {
    "id": "83Vh4NoO_JyU"
   },
   "source": [
    "<font color='red'>Compute mean of ratings</font>"
   ]
  },
  {
   "cell_type": "code",
   "execution_count": 16,
   "metadata": {
    "id": "cBHuCn2QSEnl"
   },
   "outputs": [],
   "source": [
    "def m_u(ratings):\n",
    "    '''In this function, we will compute mean for all the ratings'''\n",
    "    # you can use mean() function to do this\n",
    "    # check this (https://pandas.pydata.org/pandas-docs/stable/reference/api/pandas.DataFrame.mean.html) link for more details.\n",
    "    \n",
    "\n",
    "    return "
   ]
  },
  {
   "cell_type": "code",
   "execution_count": 17,
   "metadata": {
    "id": "n8s_iRHb1jIZ"
   },
   "outputs": [],
   "source": [
    "def m_u(ratings):\n",
    "    '''In this function, we will compute mean for all the ratings'''\n",
    "    \n",
    "    ratings_mean = np.round(np.mean(ratings), 3)\n",
    "    # you can use mean() function to do this\n",
    "    # check this (https://pandas.pydata.org/pandas-docs/stable/reference/api/pandas.DataFrame.mean.html) link for more details.\n",
    "    \n",
    "\n",
    "    return ratings_mean"
   ]
  },
  {
   "cell_type": "markdown",
   "metadata": {
    "id": "76ooYQIdG_tf"
   },
   "source": [
    "<font color='cyan'>Grader function -2 </font>"
   ]
  },
  {
   "cell_type": "code",
   "execution_count": 18,
   "metadata": {
    "id": "TZy1m67oG9r9",
    "outputId": "bbd21bd7-1642-4cf4-dc4c-dbf80eef16e5"
   },
   "outputs": [
    {
     "data": {
      "text/plain": [
       "True"
      ]
     },
     "execution_count": 18,
     "metadata": {},
     "output_type": "execute_result"
    }
   ],
   "source": [
    "def grader_mean(mu):\n",
    "  assert(np.round(mu,3)==3.529)\n",
    "  return True\n",
    "mu=m_u(data['rating'])\n",
    "grader_mean(mu)"
   ]
  },
  {
   "cell_type": "markdown",
   "metadata": {
    "id": "qSvAW1X94g3G"
   },
   "source": [
    "<font color='red'>Initialize $B_{i}$ and $C_{j}$"
   ]
  },
  {
   "cell_type": "markdown",
   "metadata": {
    "id": "qsOl-4xq5aUG"
   },
   "source": [
    "Hint : Number of rows of adjacent matrix corresponds to user dimensions($B_{i}$), number of columns of adjacent matrix corresponds to movie dimensions ($C_{j}$)"
   ]
  },
  {
   "cell_type": "code",
   "execution_count": 19,
   "metadata": {
    "id": "AyEJqPka4lBW"
   },
   "outputs": [],
   "source": [
    "def initialize(dim):\n",
    "    '''In this function, we will initialize bias value 'B' and 'C'.'''\n",
    "    initializer = [0 for i in range(dim)] \n",
    "    # initalize the value to zeros \n",
    "    # return output as a list o\n",
    "\n",
    "    return initializer"
   ]
  },
  {
   "cell_type": "code",
   "execution_count": 20,
   "metadata": {
    "id": "Nlae9QAQ43Xz"
   },
   "outputs": [],
   "source": [
    "dim= adjacency_matrix_.shape[0]\n",
    "b_i=initialize(dim)"
   ]
  },
  {
   "cell_type": "code",
   "execution_count": 21,
   "metadata": {
    "id": "rwuopn4HoEbP"
   },
   "outputs": [],
   "source": [
    "dim= adjacency_matrix_.shape[1]\n",
    "c_j=initialize(dim)"
   ]
  },
  {
   "cell_type": "markdown",
   "metadata": {
    "id": "nfPJ3_h6JIkI"
   },
   "source": [
    "<font color='cyan'>Grader function -3 </font>"
   ]
  },
  {
   "cell_type": "code",
   "execution_count": 22,
   "metadata": {
    "id": "dQhiNjw0Hz4m",
    "outputId": "852a39f3-83ca-4aac-e2ac-b79accd032fb",
    "scrolled": true
   },
   "outputs": [
    {
     "data": {
      "text/plain": [
       "True"
      ]
     },
     "execution_count": 22,
     "metadata": {},
     "output_type": "execute_result"
    }
   ],
   "source": [
    "def grader_dim(b_i,c_j):\n",
    "  assert(len(b_i)==943 and np.sum(b_i)==0)\n",
    "  assert(len(c_j)==1681 and np.sum(c_j)==0)\n",
    "  return True\n",
    "grader_dim(b_i,c_j)"
   ]
  },
  {
   "cell_type": "markdown",
   "metadata": {
    "id": "DTDK4ZR18MrZ"
   },
   "source": [
    "<font color='red'>Compute dL/db_i</font>"
   ]
  },
  {
   "cell_type": "code",
   "execution_count": 23,
   "metadata": {
    "id": "OnP31t7A1jIk"
   },
   "outputs": [],
   "source": [
    "def derivative_db(user_id,item_id,rating,U,VT,mu,alpha):\n",
    "    '''In this function, we will compute dL/db_i'''\n",
    "    #b_ = 2*((alpha + 1)*b_i[user_id] - rating + mu + c_j[item_id] + np.dot(U[user_id], VT.T[item_id]))\n",
    "    b_ = (2*alpha*b_i[user_id])-(2*(rating-mu-b_i[user_id]-c_j[item_id]-np.dot(U[user_id],VT.T[item_id])))\n",
    "    \n",
    "    return b_"
   ]
  },
  {
   "cell_type": "markdown",
   "metadata": {
    "id": "ilISrTeQ0f0v"
   },
   "source": [
    "<font color='cyan'>Grader function -4 </font>"
   ]
  },
  {
   "cell_type": "code",
   "execution_count": 24,
   "metadata": {
    "id": "Wt5ixEVZ043U",
    "outputId": "96cae1f9-8a0e-4f6a-b259-70f70a146cc4"
   },
   "outputs": [
    {
     "ename": "AssertionError",
     "evalue": "",
     "output_type": "error",
     "traceback": [
      "\u001b[1;31m---------------------------------------------------------------------------\u001b[0m",
      "\u001b[1;31mAssertionError\u001b[0m                            Traceback (most recent call last)",
      "\u001b[1;32m<ipython-input-24-bae5fdcb0ca4>\u001b[0m in \u001b[0;36m<module>\u001b[1;34m\u001b[0m\n\u001b[0;32m      7\u001b[0m \u001b[0malpha\u001b[0m\u001b[1;33m=\u001b[0m\u001b[1;36m0.01\u001b[0m\u001b[1;33m\u001b[0m\u001b[0m\n\u001b[0;32m      8\u001b[0m \u001b[0mvalue\u001b[0m\u001b[1;33m=\u001b[0m\u001b[0mderivative_db\u001b[0m\u001b[1;33m(\u001b[0m\u001b[1;36m312\u001b[0m\u001b[1;33m,\u001b[0m\u001b[1;36m98\u001b[0m\u001b[1;33m,\u001b[0m\u001b[1;36m4\u001b[0m\u001b[1;33m,\u001b[0m\u001b[0mU1\u001b[0m\u001b[1;33m,\u001b[0m\u001b[0mV1\u001b[0m\u001b[1;33m,\u001b[0m\u001b[0mmu\u001b[0m\u001b[1;33m,\u001b[0m\u001b[0malpha\u001b[0m\u001b[1;33m)\u001b[0m\u001b[1;33m\u001b[0m\u001b[0m\n\u001b[1;32m----> 9\u001b[1;33m \u001b[0mgrader_db\u001b[0m\u001b[1;33m(\u001b[0m\u001b[0mvalue\u001b[0m\u001b[1;33m)\u001b[0m\u001b[1;33m\u001b[0m\u001b[0m\n\u001b[0m",
      "\u001b[1;32m<ipython-input-24-bae5fdcb0ca4>\u001b[0m in \u001b[0;36mgrader_db\u001b[1;34m(value)\u001b[0m\n\u001b[0;32m      1\u001b[0m \u001b[1;32mdef\u001b[0m \u001b[0mgrader_db\u001b[0m\u001b[1;33m(\u001b[0m\u001b[0mvalue\u001b[0m\u001b[1;33m)\u001b[0m\u001b[1;33m:\u001b[0m\u001b[1;33m\u001b[0m\u001b[0m\n\u001b[1;32m----> 2\u001b[1;33m     \u001b[1;32massert\u001b[0m\u001b[1;33m(\u001b[0m\u001b[0mnp\u001b[0m\u001b[1;33m.\u001b[0m\u001b[0mround\u001b[0m\u001b[1;33m(\u001b[0m\u001b[0mvalue\u001b[0m\u001b[1;33m,\u001b[0m\u001b[1;36m3\u001b[0m\u001b[1;33m)\u001b[0m\u001b[1;33m==\u001b[0m\u001b[1;33m-\u001b[0m\u001b[1;36m0.931\u001b[0m\u001b[1;33m)\u001b[0m\u001b[1;33m\u001b[0m\u001b[0m\n\u001b[0m\u001b[0;32m      3\u001b[0m     \u001b[1;32mreturn\u001b[0m \u001b[1;32mTrue\u001b[0m\u001b[1;33m\u001b[0m\u001b[0m\n\u001b[0;32m      4\u001b[0m \u001b[0mU1\u001b[0m\u001b[1;33m,\u001b[0m \u001b[0mSigma\u001b[0m\u001b[1;33m,\u001b[0m \u001b[0mV1\u001b[0m \u001b[1;33m=\u001b[0m \u001b[0mrandomized_svd\u001b[0m\u001b[1;33m(\u001b[0m\u001b[0madjacency_matrix_\u001b[0m\u001b[1;33m,\u001b[0m \u001b[0mn_components\u001b[0m\u001b[1;33m=\u001b[0m\u001b[1;36m2\u001b[0m\u001b[1;33m,\u001b[0m\u001b[0mn_iter\u001b[0m\u001b[1;33m=\u001b[0m\u001b[1;36m5\u001b[0m\u001b[1;33m,\u001b[0m \u001b[0mrandom_state\u001b[0m\u001b[1;33m=\u001b[0m\u001b[1;36m24\u001b[0m\u001b[1;33m)\u001b[0m\u001b[1;33m\u001b[0m\u001b[0m\n\u001b[0;32m      5\u001b[0m \u001b[1;31m# Please don't change random state\u001b[0m\u001b[1;33m\u001b[0m\u001b[1;33m\u001b[0m\u001b[0m\n",
      "\u001b[1;31mAssertionError\u001b[0m: "
     ]
    }
   ],
   "source": [
    "def grader_db(value):\n",
    "    assert(np.round(value,3)==-0.931)\n",
    "    return True\n",
    "U1, Sigma, V1 = randomized_svd(adjacency_matrix_, n_components=2,n_iter=5, random_state=24)\n",
    "# Please don't change random state\n",
    "# Here we are considering n_componets = 2 for our convinence\n",
    "alpha=0.01 \n",
    "value=derivative_db(312,98,4,U1,V1,mu,alpha)\n",
    "grader_db(value)"
   ]
  },
  {
   "cell_type": "code",
   "execution_count": 25,
   "metadata": {
    "id": "gS3mtcDZ1jIl",
    "outputId": "9b840804-8bbf-4731-b3a0-f909b21026de"
   },
   "outputs": [
    {
     "data": {
      "text/plain": [
       "-0.9317891723925795"
      ]
     },
     "execution_count": 25,
     "metadata": {},
     "output_type": "execute_result"
    }
   ],
   "source": [
    "value=derivative_db(312,98,4,U1,V1,mu,alpha)\n",
    "value"
   ]
  },
  {
   "cell_type": "markdown",
   "metadata": {},
   "source": [
    "For derivative_db\n",
    "- The Desired value = **-0.931**\n",
    "- The value which I am getting is = **-0.9317891723925795**\n",
    "- After rounding it to 3, it becomes -0.932 (assertation error).\n",
    "\n",
    "**As per Email conversation with team@appliedai the values I am getting are correct.**\n",
    "\n",
    "**Ignoring Grader function -4**\n"
   ]
  },
  {
   "cell_type": "markdown",
   "metadata": {
    "id": "1Kp0hC_b9v60"
   },
   "source": [
    "<font color='red'>Compute dL/dc_j</font>"
   ]
  },
  {
   "cell_type": "code",
   "execution_count": 26,
   "metadata": {
    "id": "FAtSYMrc9UqJ"
   },
   "outputs": [],
   "source": [
    "def derivative_dc(user_id,item_id,rating,U,VT,mu, alpha):\n",
    "    '''In this function, we will compute dL/dc_j'''\n",
    "    c_ = 2*((alpha + 1)*c_j[item_id] - rating + mu + b_i[user_id] + np.dot(U[user_id], VT.T[item_id]))\n",
    "    #c_ = (2*alpha*c_j[item_id])-(2*(rating-mu-c_j[item_id]- b_i[user_id]-np.dot(U[user_id],VT.T[item_id])))\n",
    "    return c_\n"
   ]
  },
  {
   "cell_type": "markdown",
   "metadata": {
    "id": "lxkAm8aH1SBF"
   },
   "source": [
    "<font color='cyan'>Grader function - 5 </font>"
   ]
  },
  {
   "cell_type": "code",
   "execution_count": 27,
   "metadata": {
    "id": "0VTcOOdh1jIy",
    "outputId": "f046c65a-4c5a-4819-c690-ca054b2c5e6d"
   },
   "outputs": [
    {
     "ename": "AssertionError",
     "evalue": "",
     "output_type": "error",
     "traceback": [
      "\u001b[1;31m---------------------------------------------------------------------------\u001b[0m",
      "\u001b[1;31mAssertionError\u001b[0m                            Traceback (most recent call last)",
      "\u001b[1;32m<ipython-input-27-86c51b9a2d3b>\u001b[0m in \u001b[0;36m<module>\u001b[1;34m\u001b[0m\n\u001b[0;32m      7\u001b[0m \u001b[0malpha\u001b[0m\u001b[1;33m=\u001b[0m\u001b[1;36m0.01\u001b[0m\u001b[1;33m\u001b[0m\u001b[0m\n\u001b[0;32m      8\u001b[0m \u001b[0mvalue\u001b[0m\u001b[1;33m=\u001b[0m\u001b[0mderivative_dc\u001b[0m\u001b[1;33m(\u001b[0m\u001b[1;36m58\u001b[0m\u001b[1;33m,\u001b[0m\u001b[1;36m504\u001b[0m\u001b[1;33m,\u001b[0m\u001b[1;36m5\u001b[0m\u001b[1;33m,\u001b[0m\u001b[0mU1\u001b[0m\u001b[1;33m,\u001b[0m\u001b[0mV1\u001b[0m\u001b[1;33m,\u001b[0m\u001b[0mmu\u001b[0m\u001b[1;33m,\u001b[0m \u001b[0malpha\u001b[0m\u001b[1;33m)\u001b[0m\u001b[1;33m\u001b[0m\u001b[0m\n\u001b[1;32m----> 9\u001b[1;33m \u001b[0mgrader_dc\u001b[0m\u001b[1;33m(\u001b[0m\u001b[0mvalue\u001b[0m\u001b[1;33m)\u001b[0m\u001b[1;33m\u001b[0m\u001b[0m\n\u001b[0m",
      "\u001b[1;32m<ipython-input-27-86c51b9a2d3b>\u001b[0m in \u001b[0;36mgrader_dc\u001b[1;34m(value)\u001b[0m\n\u001b[0;32m      1\u001b[0m \u001b[1;32mdef\u001b[0m \u001b[0mgrader_dc\u001b[0m\u001b[1;33m(\u001b[0m\u001b[0mvalue\u001b[0m\u001b[1;33m)\u001b[0m\u001b[1;33m:\u001b[0m\u001b[1;33m\u001b[0m\u001b[0m\n\u001b[1;32m----> 2\u001b[1;33m     \u001b[1;32massert\u001b[0m\u001b[1;33m(\u001b[0m\u001b[0mvalue\u001b[0m\u001b[1;33m==\u001b[0m\u001b[1;33m-\u001b[0m\u001b[1;36m2.929\u001b[0m\u001b[1;33m)\u001b[0m\u001b[1;33m\u001b[0m\u001b[0m\n\u001b[0m\u001b[0;32m      3\u001b[0m     \u001b[1;32mreturn\u001b[0m \u001b[1;32mTrue\u001b[0m\u001b[1;33m\u001b[0m\u001b[0m\n\u001b[0;32m      4\u001b[0m \u001b[0mU1\u001b[0m\u001b[1;33m,\u001b[0m \u001b[0mSigma\u001b[0m\u001b[1;33m,\u001b[0m \u001b[0mV1\u001b[0m \u001b[1;33m=\u001b[0m \u001b[0mrandomized_svd\u001b[0m\u001b[1;33m(\u001b[0m\u001b[0madjacency_matrix_\u001b[0m\u001b[1;33m,\u001b[0m \u001b[0mn_components\u001b[0m\u001b[1;33m=\u001b[0m\u001b[1;36m2\u001b[0m\u001b[1;33m,\u001b[0m\u001b[0mn_iter\u001b[0m\u001b[1;33m=\u001b[0m\u001b[1;36m5\u001b[0m\u001b[1;33m,\u001b[0m \u001b[0mrandom_state\u001b[0m\u001b[1;33m=\u001b[0m\u001b[1;36m24\u001b[0m\u001b[1;33m)\u001b[0m\u001b[1;33m\u001b[0m\u001b[0m\n\u001b[0;32m      5\u001b[0m \u001b[1;31m# Please don't change random state\u001b[0m\u001b[1;33m\u001b[0m\u001b[1;33m\u001b[0m\u001b[0m\n",
      "\u001b[1;31mAssertionError\u001b[0m: "
     ]
    }
   ],
   "source": [
    "def grader_dc(value):\n",
    "    assert(value==-2.929)\n",
    "    return True\n",
    "U1, Sigma, V1 = randomized_svd(adjacency_matrix_, n_components=2,n_iter=5, random_state=24)\n",
    "# Please don't change random state\n",
    "# Here we are considering n_componets = 2 for our convinence\n",
    "alpha=0.01 \n",
    "value=derivative_dc(58,504,5,U1,V1,mu, alpha)\n",
    "grader_dc(value)"
   ]
  },
  {
   "cell_type": "code",
   "execution_count": 28,
   "metadata": {
    "id": "9nH29iX61jIz",
    "outputId": "347a38cc-9acd-45f2-9d6b-7be6f758e948"
   },
   "outputs": [
    {
     "data": {
      "text/plain": [
       "-2.930039507958737"
      ]
     },
     "execution_count": 28,
     "metadata": {},
     "output_type": "execute_result"
    }
   ],
   "source": [
    "value=derivative_dc(58,504,5,U1,V1,mu, alpha)\n",
    "value"
   ]
  },
  {
   "cell_type": "markdown",
   "metadata": {},
   "source": [
    "For derivative_db\n",
    "- Value to assertain = **-2.929**\n",
    "- I am getting = **-2.930039507958737**\n",
    "- After rounding it to 3, it becomes -0.932 (assertation error).\n",
    "\n",
    "**As per Email conversation with team@appliedai the values I am getting are correct.**\n",
    "\n",
    "**Ignoring Grader function -5**"
   ]
  },
  {
   "cell_type": "markdown",
   "metadata": {},
   "source": [
    "_____________"
   ]
  },
  {
   "cell_type": "markdown",
   "metadata": {
    "id": "lg5XNbDWCIKI"
   },
   "source": [
    "<font color='red'>Compute MSE (mean squared error) for predicted ratings</font>\n"
   ]
  },
  {
   "cell_type": "markdown",
   "metadata": {
    "id": "7WUjNy0TDQX6"
   },
   "source": [
    "for each epoch, print the MSE value"
   ]
  },
  {
   "cell_type": "markdown",
   "metadata": {
    "id": "D2pCy1AKCafw"
   },
   "source": [
    "<pre>\n",
    "for each epoch:\n",
    "\n",
    "    for each pair of (user, movie):\n",
    "\n",
    "        b_i =  b_i - learning_rate * dL/db_i\n",
    "\n",
    "        c_j =  c_j - learning_rate * dL/dc_j\n",
    "\n",
    "predict the ratings with formula\n",
    "</pre>\n",
    "\n",
    "$\\hat{y}_{ij} = \\mu + b_i + c_j + \\text{dot_product}(u_i , v_j) $"
   ]
  },
  {
   "cell_type": "code",
   "execution_count": 29,
   "metadata": {},
   "outputs": [
    {
     "name": "stderr",
     "output_type": "stream",
     "text": [
      "100%|██████████████████████████████████████████████████████████████████████████████████| 10/10 [08:59<00:00, 53.96s/it]\n"
     ]
    },
    {
     "data": {
      "image/png": "[encoded data removed]",
      "text/plain": [
       "<Figure size 432x288 with 1 Axes>"
      ]
     },
     "metadata": {
      "needs_background": "light"
     },
     "output_type": "display_data"
    }
   ],
   "source": [
    "#%%time\n",
    "\n",
    "#dim= adjacency_matrix.shape[0]\n",
    "#b_i=initialize(dim)\n",
    "\n",
    "\n",
    "#dim= adjacency_matrix.shape[1]\n",
    "#c_j=initialize(dim)\n",
    "\n",
    "\n",
    "#adjacency_matrix = np.array(adjacency_matrix_)\n",
    "\n",
    "epochs = 10\n",
    "lr = 0.001\n",
    "MSE_list = []\n",
    "\n",
    "#actual_rating = pd.DataFrame(adjacency_matrix)\n",
    "\n",
    "for e in tqdm(range(epochs)):\n",
    "    all_users_ratings = []\n",
    "\n",
    "    for i in range(U.shape[0]):\n",
    "        user_ratings = []\n",
    "        for j in range(VT.shape[1]):\n",
    "\n",
    "            b_value=derivative_db(i,j,adjacency_matrix_array[i][j],U,VT,mu,alpha)\n",
    "            b_i[i] = b_i[i] - lr*b_value\n",
    "\n",
    "            c_value = derivative_dc(i,j,adjacency_matrix_array[i][j],U,VT,mu, alpha)\n",
    "            c_j[j] = c_j[i] - lr*c_value\n",
    "\n",
    "            y_pred = mu + b_i[i] + c_j[j] + np.dot(U[i], VT.T[j])\n",
    "            user_ratings.append(y_pred)\n",
    "        all_users_ratings.append(user_ratings)\n",
    "\n",
    "    predicted_ratings = pd.DataFrame(all_users_ratings)\n",
    "    actual_rating = pd.DataFrame(adjacency_matrix_array)\n",
    "    MSE = np.round((np.square(np.array(predicted_ratings) - np.array(actual_rating)).mean(axis=None)), 4)\n",
    "    MSE_list.append(MSE)\n",
    "\n",
    "    \n",
    "plt.plot([i for i in range(epochs)], MSE_list, \n",
    "                                     color='green', marker='o', linestyle='--',\n",
    "                                     linewidth=2, markersize=8)\n",
    "\n",
    "plt.grid(color='y', linestyle='--', linewidth=0.5)\n",
    "plt.xlabel(\"Epoch\")\n",
    "plt.ylabel(\"MSE\")\n",
    "plt.title(\"Epoch vs MSE \")\n",
    "#plt.xkcd()\n",
    "plt.show()"
   ]
  },
  {
   "cell_type": "code",
   "execution_count": 30,
   "metadata": {},
   "outputs": [
    {
     "name": "stdout",
     "output_type": "stream",
     "text": [
      "[0.9661, 0.7527, 0.6705, 0.6665, 0.6656, 0.6658, 0.6662, 0.6664, 0.6667, 0.6669]\n"
     ]
    }
   ],
   "source": [
    "print(MSE_list)"
   ]
  },
  {
   "cell_type": "markdown",
   "metadata": {
    "id": "igkkO3EvVRt6"
   },
   "source": [
    "____________"
   ]
  },
  {
   "cell_type": "markdown",
   "metadata": {
    "id": "lkIQOOo1C9o7"
   },
   "source": [
    "<font color='red'> Task 2</font>"
   ]
  },
  {
   "cell_type": "code",
   "execution_count": 31,
   "metadata": {
    "id": "9kl4Ryi_7E_T"
   },
   "outputs": [
    {
     "data": {
      "text/html": [
       "<div>\n",
       "<style scoped>\n",
       "    .dataframe tbody tr th:only-of-type {\n",
       "        vertical-align: middle;\n",
       "    }\n",
       "\n",
       "    .dataframe tbody tr th {\n",
       "        vertical-align: top;\n",
       "    }\n",
       "\n",
       "    .dataframe thead th {\n",
       "        text-align: right;\n",
       "    }\n",
       "</style>\n",
       "<table border=\"1\" class=\"dataframe\">\n",
       "  <thead>\n",
       "    <tr style=\"text-align: right;\">\n",
       "      <th></th>\n",
       "      <th>user_id</th>\n",
       "      <th>age</th>\n",
       "      <th>is_male</th>\n",
       "      <th>orig_user_id</th>\n",
       "    </tr>\n",
       "  </thead>\n",
       "  <tbody>\n",
       "    <tr>\n",
       "      <th>0</th>\n",
       "      <td>0</td>\n",
       "      <td>24</td>\n",
       "      <td>1</td>\n",
       "      <td>1</td>\n",
       "    </tr>\n",
       "    <tr>\n",
       "      <th>1</th>\n",
       "      <td>1</td>\n",
       "      <td>53</td>\n",
       "      <td>0</td>\n",
       "      <td>2</td>\n",
       "    </tr>\n",
       "    <tr>\n",
       "      <th>2</th>\n",
       "      <td>2</td>\n",
       "      <td>23</td>\n",
       "      <td>1</td>\n",
       "      <td>3</td>\n",
       "    </tr>\n",
       "    <tr>\n",
       "      <th>3</th>\n",
       "      <td>3</td>\n",
       "      <td>24</td>\n",
       "      <td>1</td>\n",
       "      <td>4</td>\n",
       "    </tr>\n",
       "    <tr>\n",
       "      <th>4</th>\n",
       "      <td>4</td>\n",
       "      <td>33</td>\n",
       "      <td>0</td>\n",
       "      <td>5</td>\n",
       "    </tr>\n",
       "    <tr>\n",
       "      <th>...</th>\n",
       "      <td>...</td>\n",
       "      <td>...</td>\n",
       "      <td>...</td>\n",
       "      <td>...</td>\n",
       "    </tr>\n",
       "    <tr>\n",
       "      <th>938</th>\n",
       "      <td>938</td>\n",
       "      <td>26</td>\n",
       "      <td>0</td>\n",
       "      <td>939</td>\n",
       "    </tr>\n",
       "    <tr>\n",
       "      <th>939</th>\n",
       "      <td>939</td>\n",
       "      <td>32</td>\n",
       "      <td>1</td>\n",
       "      <td>940</td>\n",
       "    </tr>\n",
       "    <tr>\n",
       "      <th>940</th>\n",
       "      <td>940</td>\n",
       "      <td>20</td>\n",
       "      <td>1</td>\n",
       "      <td>941</td>\n",
       "    </tr>\n",
       "    <tr>\n",
       "      <th>941</th>\n",
       "      <td>941</td>\n",
       "      <td>48</td>\n",
       "      <td>0</td>\n",
       "      <td>942</td>\n",
       "    </tr>\n",
       "    <tr>\n",
       "      <th>942</th>\n",
       "      <td>942</td>\n",
       "      <td>22</td>\n",
       "      <td>1</td>\n",
       "      <td>943</td>\n",
       "    </tr>\n",
       "  </tbody>\n",
       "</table>\n",
       "<p>943 rows × 4 columns</p>\n",
       "</div>"
      ],
      "text/plain": [
       "     user_id  age  is_male  orig_user_id\n",
       "0          0   24        1             1\n",
       "1          1   53        0             2\n",
       "2          2   23        1             3\n",
       "3          3   24        1             4\n",
       "4          4   33        0             5\n",
       "..       ...  ...      ...           ...\n",
       "938      938   26        0           939\n",
       "939      939   32        1           940\n",
       "940      940   20        1           941\n",
       "941      941   48        0           942\n",
       "942      942   22        1           943\n",
       "\n",
       "[943 rows x 4 columns]"
      ]
     },
     "execution_count": 31,
     "metadata": {},
     "output_type": "execute_result"
    }
   ],
   "source": [
    "user_info = pd.read_csv('user_info.csv')\n",
    "user_info"
   ]
  },
  {
   "cell_type": "code",
   "execution_count": 32,
   "metadata": {
    "id": "c1FTc39gDdti"
   },
   "outputs": [
    {
     "data": {
      "text/html": [
       "<div>\n",
       "<style scoped>\n",
       "    .dataframe tbody tr th:only-of-type {\n",
       "        vertical-align: middle;\n",
       "    }\n",
       "\n",
       "    .dataframe tbody tr th {\n",
       "        vertical-align: top;\n",
       "    }\n",
       "\n",
       "    .dataframe thead th {\n",
       "        text-align: right;\n",
       "    }\n",
       "</style>\n",
       "<table border=\"1\" class=\"dataframe\">\n",
       "  <thead>\n",
       "    <tr style=\"text-align: right;\">\n",
       "      <th></th>\n",
       "      <th>0</th>\n",
       "      <th>1</th>\n",
       "      <th>2</th>\n",
       "      <th>3</th>\n",
       "      <th>4</th>\n",
       "      <th>5</th>\n",
       "      <th>6</th>\n",
       "      <th>7</th>\n",
       "      <th>8</th>\n",
       "      <th>9</th>\n",
       "      <th>...</th>\n",
       "      <th>291</th>\n",
       "      <th>292</th>\n",
       "      <th>293</th>\n",
       "      <th>294</th>\n",
       "      <th>295</th>\n",
       "      <th>296</th>\n",
       "      <th>297</th>\n",
       "      <th>298</th>\n",
       "      <th>299</th>\n",
       "      <th>Is_Male</th>\n",
       "    </tr>\n",
       "  </thead>\n",
       "  <tbody>\n",
       "    <tr>\n",
       "      <th>0</th>\n",
       "      <td>0.066226</td>\n",
       "      <td>0.007889</td>\n",
       "      <td>-0.012531</td>\n",
       "      <td>-0.086164</td>\n",
       "      <td>0.024870</td>\n",
       "      <td>0.006661</td>\n",
       "      <td>0.080051</td>\n",
       "      <td>-0.027567</td>\n",
       "      <td>0.067568</td>\n",
       "      <td>0.020422</td>\n",
       "      <td>...</td>\n",
       "      <td>0.042233</td>\n",
       "      <td>-0.028445</td>\n",
       "      <td>0.011708</td>\n",
       "      <td>0.036218</td>\n",
       "      <td>-0.005871</td>\n",
       "      <td>0.047418</td>\n",
       "      <td>0.035521</td>\n",
       "      <td>-0.031427</td>\n",
       "      <td>0.034933</td>\n",
       "      <td>1</td>\n",
       "    </tr>\n",
       "    <tr>\n",
       "      <th>1</th>\n",
       "      <td>0.013644</td>\n",
       "      <td>-0.048895</td>\n",
       "      <td>0.056554</td>\n",
       "      <td>0.015809</td>\n",
       "      <td>-0.012036</td>\n",
       "      <td>0.017731</td>\n",
       "      <td>0.010708</td>\n",
       "      <td>-0.010217</td>\n",
       "      <td>0.028434</td>\n",
       "      <td>-0.009383</td>\n",
       "      <td>...</td>\n",
       "      <td>0.075701</td>\n",
       "      <td>-0.025913</td>\n",
       "      <td>-0.041233</td>\n",
       "      <td>0.016309</td>\n",
       "      <td>0.021350</td>\n",
       "      <td>0.010320</td>\n",
       "      <td>0.044103</td>\n",
       "      <td>-0.029068</td>\n",
       "      <td>-0.013602</td>\n",
       "      <td>0</td>\n",
       "    </tr>\n",
       "    <tr>\n",
       "      <th>2</th>\n",
       "      <td>0.005438</td>\n",
       "      <td>-0.025128</td>\n",
       "      <td>0.020028</td>\n",
       "      <td>0.032832</td>\n",
       "      <td>0.035080</td>\n",
       "      <td>0.001919</td>\n",
       "      <td>0.007690</td>\n",
       "      <td>-0.000996</td>\n",
       "      <td>-0.021169</td>\n",
       "      <td>-0.003201</td>\n",
       "      <td>...</td>\n",
       "      <td>0.012493</td>\n",
       "      <td>-0.026614</td>\n",
       "      <td>0.038926</td>\n",
       "      <td>-0.027825</td>\n",
       "      <td>0.040551</td>\n",
       "      <td>0.004009</td>\n",
       "      <td>-0.009401</td>\n",
       "      <td>-0.005497</td>\n",
       "      <td>0.018265</td>\n",
       "      <td>1</td>\n",
       "    </tr>\n",
       "    <tr>\n",
       "      <th>3</th>\n",
       "      <td>0.005704</td>\n",
       "      <td>-0.018211</td>\n",
       "      <td>0.010898</td>\n",
       "      <td>0.021867</td>\n",
       "      <td>0.013920</td>\n",
       "      <td>-0.014180</td>\n",
       "      <td>0.012246</td>\n",
       "      <td>-0.009111</td>\n",
       "      <td>-0.012774</td>\n",
       "      <td>0.006112</td>\n",
       "      <td>...</td>\n",
       "      <td>-0.007032</td>\n",
       "      <td>-0.059955</td>\n",
       "      <td>0.045249</td>\n",
       "      <td>0.020849</td>\n",
       "      <td>-0.028334</td>\n",
       "      <td>-0.028730</td>\n",
       "      <td>-0.000499</td>\n",
       "      <td>0.006983</td>\n",
       "      <td>0.064996</td>\n",
       "      <td>1</td>\n",
       "    </tr>\n",
       "    <tr>\n",
       "      <th>4</th>\n",
       "      <td>0.034122</td>\n",
       "      <td>0.009005</td>\n",
       "      <td>-0.044054</td>\n",
       "      <td>-0.016049</td>\n",
       "      <td>0.004326</td>\n",
       "      <td>-0.021502</td>\n",
       "      <td>0.095574</td>\n",
       "      <td>0.079504</td>\n",
       "      <td>-0.017152</td>\n",
       "      <td>0.029360</td>\n",
       "      <td>...</td>\n",
       "      <td>-0.058646</td>\n",
       "      <td>0.051648</td>\n",
       "      <td>-0.039851</td>\n",
       "      <td>0.049883</td>\n",
       "      <td>0.063785</td>\n",
       "      <td>0.008650</td>\n",
       "      <td>-0.033055</td>\n",
       "      <td>0.033556</td>\n",
       "      <td>0.009992</td>\n",
       "      <td>0</td>\n",
       "    </tr>\n",
       "  </tbody>\n",
       "</table>\n",
       "<p>5 rows × 301 columns</p>\n",
       "</div>"
      ],
      "text/plain": [
       "          0         1         2         3         4         5         6  \\\n",
       "0  0.066226  0.007889 -0.012531 -0.086164  0.024870  0.006661  0.080051   \n",
       "1  0.013644 -0.048895  0.056554  0.015809 -0.012036  0.017731  0.010708   \n",
       "2  0.005438 -0.025128  0.020028  0.032832  0.035080  0.001919  0.007690   \n",
       "3  0.005704 -0.018211  0.010898  0.021867  0.013920 -0.014180  0.012246   \n",
       "4  0.034122  0.009005 -0.044054 -0.016049  0.004326 -0.021502  0.095574   \n",
       "\n",
       "          7         8         9  ...       291       292       293       294  \\\n",
       "0 -0.027567  0.067568  0.020422  ...  0.042233 -0.028445  0.011708  0.036218   \n",
       "1 -0.010217  0.028434 -0.009383  ...  0.075701 -0.025913 -0.041233  0.016309   \n",
       "2 -0.000996 -0.021169 -0.003201  ...  0.012493 -0.026614  0.038926 -0.027825   \n",
       "3 -0.009111 -0.012774  0.006112  ... -0.007032 -0.059955  0.045249  0.020849   \n",
       "4  0.079504 -0.017152  0.029360  ... -0.058646  0.051648 -0.039851  0.049883   \n",
       "\n",
       "        295       296       297       298       299  Is_Male  \n",
       "0 -0.005871  0.047418  0.035521 -0.031427  0.034933        1  \n",
       "1  0.021350  0.010320  0.044103 -0.029068 -0.013602        0  \n",
       "2  0.040551  0.004009 -0.009401 -0.005497  0.018265        1  \n",
       "3 -0.028334 -0.028730 -0.000499  0.006983  0.064996        1  \n",
       "4  0.063785  0.008650 -0.033055  0.033556  0.009992        0  \n",
       "\n",
       "[5 rows x 301 columns]"
      ]
     },
     "execution_count": 32,
     "metadata": {},
     "output_type": "execute_result"
    }
   ],
   "source": [
    "user_matrix = pd.DataFrame(U)\n",
    "user_matrix['Is_Male'] = user_info.is_male\n",
    "user_matrix.head()"
   ]
  },
  {
   "cell_type": "code",
   "execution_count": 33,
   "metadata": {},
   "outputs": [],
   "source": [
    "y = user_matrix.Is_Male\n",
    "X = user_matrix.drop('Is_Male', axis=1)"
   ]
  },
  {
   "cell_type": "markdown",
   "metadata": {},
   "source": [
    "### Applying classification model without data scaling."
   ]
  },
  {
   "cell_type": "code",
   "execution_count": 34,
   "metadata": {},
   "outputs": [
    {
     "data": {
      "text/plain": [
       "array([1, 1, 1, 1, 1, 1, 1, 1, 1, 1], dtype=int64)"
      ]
     },
     "execution_count": 34,
     "metadata": {},
     "output_type": "execute_result"
    }
   ],
   "source": [
    "from sklearn.linear_model import LogisticRegression\n",
    "\n",
    "clf_logistic = LogisticRegression()\n",
    "clf_logistic.fit(X, y)\n",
    "\n",
    "y_pred = clf_logistic.predict(X)\n",
    "y_pred[0:10]"
   ]
  },
  {
   "cell_type": "markdown",
   "metadata": {},
   "source": [
    "#### Dumb Model as the model is predicting everything as 1."
   ]
  },
  {
   "cell_type": "markdown",
   "metadata": {},
   "source": [
    "Lets try to scale the data and apply Logistic Regression."
   ]
  },
  {
   "cell_type": "code",
   "execution_count": 35,
   "metadata": {},
   "outputs": [
    {
     "data": {
      "text/html": [
       "<div>\n",
       "<style scoped>\n",
       "    .dataframe tbody tr th:only-of-type {\n",
       "        vertical-align: middle;\n",
       "    }\n",
       "\n",
       "    .dataframe tbody tr th {\n",
       "        vertical-align: top;\n",
       "    }\n",
       "\n",
       "    .dataframe thead th {\n",
       "        text-align: right;\n",
       "    }\n",
       "</style>\n",
       "<table border=\"1\" class=\"dataframe\">\n",
       "  <thead>\n",
       "    <tr style=\"text-align: right;\">\n",
       "      <th></th>\n",
       "      <th>0</th>\n",
       "      <th>1</th>\n",
       "      <th>2</th>\n",
       "      <th>3</th>\n",
       "      <th>4</th>\n",
       "      <th>5</th>\n",
       "      <th>6</th>\n",
       "      <th>7</th>\n",
       "      <th>8</th>\n",
       "      <th>9</th>\n",
       "      <th>...</th>\n",
       "      <th>290</th>\n",
       "      <th>291</th>\n",
       "      <th>292</th>\n",
       "      <th>293</th>\n",
       "      <th>294</th>\n",
       "      <th>295</th>\n",
       "      <th>296</th>\n",
       "      <th>297</th>\n",
       "      <th>298</th>\n",
       "      <th>299</th>\n",
       "    </tr>\n",
       "  </thead>\n",
       "  <tbody>\n",
       "    <tr>\n",
       "      <th>0</th>\n",
       "      <td>1.958621</td>\n",
       "      <td>0.590646</td>\n",
       "      <td>-0.651603</td>\n",
       "      <td>-2.795768</td>\n",
       "      <td>0.765587</td>\n",
       "      <td>0.392285</td>\n",
       "      <td>2.350677</td>\n",
       "      <td>-0.805625</td>\n",
       "      <td>2.122283</td>\n",
       "      <td>0.573709</td>\n",
       "      <td>...</td>\n",
       "      <td>0.414251</td>\n",
       "      <td>1.295367</td>\n",
       "      <td>-0.842886</td>\n",
       "      <td>0.363447</td>\n",
       "      <td>1.118968</td>\n",
       "      <td>-0.182385</td>\n",
       "      <td>1.467988</td>\n",
       "      <td>1.081397</td>\n",
       "      <td>-0.967801</td>\n",
       "      <td>1.087310</td>\n",
       "    </tr>\n",
       "    <tr>\n",
       "      <th>1</th>\n",
       "      <td>-0.523289</td>\n",
       "      <td>-1.248412</td>\n",
       "      <td>1.537517</td>\n",
       "      <td>0.361269</td>\n",
       "      <td>-0.367732</td>\n",
       "      <td>0.737953</td>\n",
       "      <td>0.204032</td>\n",
       "      <td>-0.272371</td>\n",
       "      <td>0.919312</td>\n",
       "      <td>-0.342898</td>\n",
       "      <td>...</td>\n",
       "      <td>1.373237</td>\n",
       "      <td>2.323114</td>\n",
       "      <td>-0.765068</td>\n",
       "      <td>-1.262310</td>\n",
       "      <td>0.507582</td>\n",
       "      <td>0.653540</td>\n",
       "      <td>0.328700</td>\n",
       "      <td>1.344939</td>\n",
       "      <td>-0.895338</td>\n",
       "      <td>-0.403260</td>\n",
       "    </tr>\n",
       "    <tr>\n",
       "      <th>2</th>\n",
       "      <td>-0.910626</td>\n",
       "      <td>-0.478659</td>\n",
       "      <td>0.380105</td>\n",
       "      <td>0.888286</td>\n",
       "      <td>1.079118</td>\n",
       "      <td>0.244221</td>\n",
       "      <td>0.110625</td>\n",
       "      <td>0.011024</td>\n",
       "      <td>-0.605473</td>\n",
       "      <td>-0.152772</td>\n",
       "      <td>...</td>\n",
       "      <td>0.901704</td>\n",
       "      <td>0.382104</td>\n",
       "      <td>-0.786627</td>\n",
       "      <td>1.199269</td>\n",
       "      <td>-0.847743</td>\n",
       "      <td>1.243151</td>\n",
       "      <td>0.134902</td>\n",
       "      <td>-0.298134</td>\n",
       "      <td>-0.171520</td>\n",
       "      <td>0.575438</td>\n",
       "    </tr>\n",
       "    <tr>\n",
       "      <th>3</th>\n",
       "      <td>-0.898067</td>\n",
       "      <td>-0.254636</td>\n",
       "      <td>0.090823</td>\n",
       "      <td>0.548809</td>\n",
       "      <td>0.429329</td>\n",
       "      <td>-0.258505</td>\n",
       "      <td>0.251661</td>\n",
       "      <td>-0.238393</td>\n",
       "      <td>-0.347414</td>\n",
       "      <td>0.133623</td>\n",
       "      <td>...</td>\n",
       "      <td>0.010399</td>\n",
       "      <td>-0.217466</td>\n",
       "      <td>-1.810974</td>\n",
       "      <td>1.393419</td>\n",
       "      <td>0.646994</td>\n",
       "      <td>-0.872185</td>\n",
       "      <td>-0.870542</td>\n",
       "      <td>-0.024764</td>\n",
       "      <td>0.211726</td>\n",
       "      <td>2.010602</td>\n",
       "    </tr>\n",
       "    <tr>\n",
       "      <th>4</th>\n",
       "      <td>0.443279</td>\n",
       "      <td>0.626795</td>\n",
       "      <td>-1.650473</td>\n",
       "      <td>-0.625034</td>\n",
       "      <td>0.134735</td>\n",
       "      <td>-0.487132</td>\n",
       "      <td>2.831201</td>\n",
       "      <td>2.485191</td>\n",
       "      <td>-0.481991</td>\n",
       "      <td>0.848592</td>\n",
       "      <td>...</td>\n",
       "      <td>-1.017612</td>\n",
       "      <td>-1.802440</td>\n",
       "      <td>1.617823</td>\n",
       "      <td>-1.219857</td>\n",
       "      <td>1.538604</td>\n",
       "      <td>1.956648</td>\n",
       "      <td>0.277434</td>\n",
       "      <td>-1.024538</td>\n",
       "      <td>1.027720</td>\n",
       "      <td>0.321344</td>\n",
       "    </tr>\n",
       "  </tbody>\n",
       "</table>\n",
       "<p>5 rows × 300 columns</p>\n",
       "</div>"
      ],
      "text/plain": [
       "        0         1         2         3         4         5         6    \\\n",
       "0  1.958621  0.590646 -0.651603 -2.795768  0.765587  0.392285  2.350677   \n",
       "1 -0.523289 -1.248412  1.537517  0.361269 -0.367732  0.737953  0.204032   \n",
       "2 -0.910626 -0.478659  0.380105  0.888286  1.079118  0.244221  0.110625   \n",
       "3 -0.898067 -0.254636  0.090823  0.548809  0.429329 -0.258505  0.251661   \n",
       "4  0.443279  0.626795 -1.650473 -0.625034  0.134735 -0.487132  2.831201   \n",
       "\n",
       "        7         8         9    ...       290       291       292       293  \\\n",
       "0 -0.805625  2.122283  0.573709  ...  0.414251  1.295367 -0.842886  0.363447   \n",
       "1 -0.272371  0.919312 -0.342898  ...  1.373237  2.323114 -0.765068 -1.262310   \n",
       "2  0.011024 -0.605473 -0.152772  ...  0.901704  0.382104 -0.786627  1.199269   \n",
       "3 -0.238393 -0.347414  0.133623  ...  0.010399 -0.217466 -1.810974  1.393419   \n",
       "4  2.485191 -0.481991  0.848592  ... -1.017612 -1.802440  1.617823 -1.219857   \n",
       "\n",
       "        294       295       296       297       298       299  \n",
       "0  1.118968 -0.182385  1.467988  1.081397 -0.967801  1.087310  \n",
       "1  0.507582  0.653540  0.328700  1.344939 -0.895338 -0.403260  \n",
       "2 -0.847743  1.243151  0.134902 -0.298134 -0.171520  0.575438  \n",
       "3  0.646994 -0.872185 -0.870542 -0.024764  0.211726  2.010602  \n",
       "4  1.538604  1.956648  0.277434 -1.024538  1.027720  0.321344  \n",
       "\n",
       "[5 rows x 300 columns]"
      ]
     },
     "execution_count": 35,
     "metadata": {},
     "output_type": "execute_result"
    }
   ],
   "source": [
    "from sklearn.preprocessing import StandardScaler\n",
    "\n",
    "scaler = StandardScaler()\n",
    "\n",
    "X_scaled = scaler.fit_transform(X)\n",
    "pd.DataFrame(X_scaled).head()"
   ]
  },
  {
   "cell_type": "code",
   "execution_count": 36,
   "metadata": {},
   "outputs": [
    {
     "data": {
      "text/plain": [
       "array([1, 0, 1, 1, 0, 1, 1, 1, 1, 1], dtype=int64)"
      ]
     },
     "execution_count": 36,
     "metadata": {},
     "output_type": "execute_result"
    }
   ],
   "source": [
    "clf_logistic.fit(X_scaled, y)\n",
    "y_pred_scaled = clf_logistic.predict(X_scaled)\n",
    "y_pred_scaled[0:10]"
   ]
  },
  {
   "cell_type": "code",
   "execution_count": 48,
   "metadata": {},
   "outputs": [],
   "source": [
    "import seaborn as sns\n",
    "import matplotlib.pyplot as plt\n",
    "def plot_cmatrics(Y_true_cv, Y_predicted_cv):\n",
    "    print(\"Confusion Matrics :\")\n",
    "    \n",
    "    #reference: https://medium.com/@dtuk81/confusion-matrix-visualization-fc31e3f30fea\n",
    "\n",
    "    confusion_matrix_cv = metrics.confusion_matrix(Y_true_cv, Y_predicted_cv)\n",
    "    group_names = ['True Neg','False Pos','False Neg','True Pos']\n",
    "    group_counts = ['{0:0.0f}'.format(value) for value in\n",
    "                    confusion_matrix_cv.flatten()]\n",
    "    group_percentages = ['{0:.2%}'.format(value) for value in\n",
    "                         confusion_matrix_cv.flatten()/np.sum(confusion_matrix_cv)]\n",
    "    labels = [f'{v1}\\n{v2}\\n{v3}'for v1, v2, v3 in\n",
    "              zip(group_names,group_counts,group_percentages)]\n",
    "    labels = np.asarray(labels).reshape(2,2)\n",
    "    sns.heatmap(confusion_matrix_cv, annot=labels, fmt='', cmap='BuPu', ax=None,\n",
    "                xticklabels=['Predicted NO', 'Predicted YES'], yticklabels=['Actual NO', 'Actual YES'], \n",
    "                linecolor='black', linewidths=0.5)\n",
    "\n",
    "    plt.show()\n",
    "    print('-'*45)\n",
    "    \n",
    "    #return confusion_matrix_cv\n",
    "        "
   ]
  },
  {
   "cell_type": "code",
   "execution_count": 50,
   "metadata": {},
   "outputs": [
    {
     "name": "stdout",
     "output_type": "stream",
     "text": [
      "              precision    recall  f1-score   support\n",
      "\n",
      "           0       0.89      0.86      0.87       273\n",
      "           1       0.94      0.96      0.95       670\n",
      "\n",
      "    accuracy                           0.93       943\n",
      "   macro avg       0.92      0.91      0.91       943\n",
      "weighted avg       0.93      0.93      0.93       943\n",
      "\n",
      "Confusion Matrics :\n"
     ]
    },
    {
     "data": {
      "image/png": "[encoded data removed]",
      "text/plain": [
       "<Figure size 432x288 with 2 Axes>"
      ]
     },
     "metadata": {
      "needs_background": "light"
     },
     "output_type": "display_data"
    },
    {
     "name": "stdout",
     "output_type": "stream",
     "text": [
      "---------------------------------------------\n"
     ]
    }
   ],
   "source": [
    "from sklearn import metrics\n",
    "print(metrics.classification_report(y, y_pred_scaled))\n",
    "plot_cmatrics(y, y_pred_scaled)"
   ]
  },
  {
   "cell_type": "markdown",
   "metadata": {},
   "source": [
    "**Observation**"
   ]
  },
  {
   "cell_type": "markdown",
   "metadata": {},
   "source": [
    "-  It is observed that as we have applied classification model to the computed user metrics, model has predicted correct gender with 92% accuracy and high TP and TN values. Therefore we can conclude that the feature \"Gender\" has a significant impact on the ratings given by the user to specific movie."
   ]
  },
  {
   "cell_type": "markdown",
   "metadata": {},
   "source": [
    "___________"
   ]
  }
 ],
 "metadata": {
  "colab": {
   "collapsed_sections": [],
   "name": "Trial 3 Recommendation_system_assignment.ipynb",
   "provenance": []
  },
  "kernelspec": {
   "display_name": "Python 3",
   "language": "python",
   "name": "python3"
  },
  "language_info": {
   "codemirror_mode": {
    "name": "ipython",
    "version": 3
   },
   "file_extension": ".py",
   "mimetype": "text/x-python",
   "name": "python",
   "nbconvert_exporter": "python",
   "pygments_lexer": "ipython3",
   "version": "3.6.5"
  }
 },
 "nbformat": 4,
 "nbformat_minor": 1
}
